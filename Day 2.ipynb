{
 "cells": [
  {
   "cell_type": "markdown",
   "metadata": {},
   "source": [
    "# conntrol statements\n",
    "    - control statements or Selection statements\n",
    "        - If-else\n",
    "    - Iterational statements or Loop statements\n",
    "        - while \n",
    "        - for"
   ]
  },
  {
   "cell_type": "code",
   "execution_count": 1,
   "metadata": {},
   "outputs": [
    {
     "name": "stdout",
     "output_type": "stream",
     "text": [
      " 2100\n",
      "not leap year\n"
     ]
    }
   ],
   "source": [
    "# check the input is leap year or not\n",
    "year=int(input(' '))\n",
    "if year%400==0 or (year%100!=0 and year %4 ==0):\n",
    "    print('leap year')\n",
    "else:\n",
    "    print('not leap year')"
   ]
  },
  {
   "cell_type": "markdown",
   "metadata": {},
   "source": [
    "### while loop"
   ]
  },
  {
   "cell_type": "code",
   "execution_count": 2,
   "metadata": {},
   "outputs": [
    {
     "name": "stdout",
     "output_type": "stream",
     "text": [
      "Enter a number : 10\n",
      "1 2 3 4 5 6 7 8 9 10 "
     ]
    }
   ],
   "source": [
    "# print numbers from 1 to N\n",
    "# input : 10\n",
    "# output : 1 2 3 4 5 .... 10\n",
    "n=int(input('Enter a number : '))\n",
    "i=1\n",
    "while i<=n:\n",
    "    print(i,end=' ')\n",
    "    i=i+1"
   ]
  },
  {
   "cell_type": "code",
   "execution_count": 3,
   "metadata": {},
   "outputs": [
    {
     "name": "stdout",
     "output_type": "stream",
     "text": [
      "Enter a number : 10\n",
      "30\n"
     ]
    }
   ],
   "source": [
    "# Read a number as input \n",
    "# output as only even numbers sum from 1 to N\n",
    "\n",
    "# input : 10\n",
    "# output : 30 (2+4+6+8+10)\n",
    "\n",
    "n=int(input('Enter a number : '))\n",
    "i=1\n",
    "x=0\n",
    "while i<=n:\n",
    "    if(i%2==0):\n",
    "        x=x+i\n",
    "    i=i+1\n",
    "print(x)"
   ]
  },
  {
   "cell_type": "code",
   "execution_count": 4,
   "metadata": {},
   "outputs": [
    {
     "name": "stdout",
     "output_type": "stream",
     "text": [
      "Enter a nummber : 123\n",
      "3 2 1 "
     ]
    }
   ],
   "source": [
    "# Read a number as input \n",
    "# output has be digits of the number\n",
    "\n",
    "# input : 123\n",
    "# ouput : 3 2 1\n",
    "\n",
    "n=int(input('Enter a nummber : '))\n",
    "while n != 0:\n",
    "    print(n%10,end=' ')\n",
    "    n=n//10"
   ]
  },
  {
   "cell_type": "markdown",
   "metadata": {},
   "source": [
    "###  Functional Programming\n",
    "    - Simple\n",
    "    - Easy understand\n",
    "    - Better \n",
    "    - Lengthy Program "
   ]
  },
  {
   "cell_type": "code",
   "execution_count": 5,
   "metadata": {},
   "outputs": [
    {
     "name": "stdout",
     "output_type": "stream",
     "text": [
      "6\n"
     ]
    }
   ],
   "source": [
    "# read a number\n",
    "# print the even digit sum from the number\n",
    "\n",
    "# input : 1234\n",
    "# output : 6(2+4)\n",
    "\n",
    "def evenDigitSum(n):\n",
    "    s=0\n",
    "    while n!=0:\n",
    "        r=n%10\n",
    "        if(r%2==0):\n",
    "            s=s+r\n",
    "        n=n//10\n",
    "    print(s)\n",
    "evenDigitSum(1234)"
   ]
  },
  {
   "cell_type": "code",
   "execution_count": 6,
   "metadata": {},
   "outputs": [
    {
     "name": "stdout",
     "output_type": "stream",
     "text": [
      "9\n"
     ]
    }
   ],
   "source": [
    "# input : 19535\n",
    "# output : 9(large digit in the given number)\n",
    "# functional programming\n",
    "\n",
    "def largeDigit(i):\n",
    "    m=0\n",
    "    n=0\n",
    "    while i!=0:\n",
    "        m=i%10\n",
    "        i//=10\n",
    "        if n<m:\n",
    "            n=m\n",
    "    print(n)\n",
    "largeDigit(19535)"
   ]
  },
  {
   "cell_type": "code",
   "execution_count": 7,
   "metadata": {},
   "outputs": [
    {
     "name": "stdout",
     "output_type": "stream",
     "text": [
      "Enter a number: 50\n",
      "no\n"
     ]
    }
   ],
   "source": [
    "def fact(i):\n",
    "    p=1\n",
    "    while i>0:\n",
    "        p=p*i\n",
    "        i=i-1\n",
    "    return p\n",
    "i=int(input('Enter a number: '))\n",
    "n=i\n",
    "m=0\n",
    "p=0\n",
    "while i!=0:\n",
    "    m=i%10\n",
    "    i//=10\n",
    "    p=p+fact(m)\n",
    "if(p==n):\n",
    "    print('yes')\n",
    "else:\n",
    "    print('no')"
   ]
  },
  {
   "cell_type": "code",
   "execution_count": 8,
   "metadata": {},
   "outputs": [
    {
     "name": "stdout",
     "output_type": "stream",
     "text": [
      "palindrome\n",
      "not a palindrome\n"
     ]
    }
   ],
   "source": [
    "def palindrome(n): \n",
    "    rev=0\n",
    "    buffer=n\n",
    "    while n!=0:\n",
    "        rev=rev*10+(n%10)\n",
    "        n=n//10\n",
    "    if buffer==rev:\n",
    "        return \"palindrome\"\n",
    "    return \"not a palindrome\"\n",
    "print(palindrome(121))\n",
    "print(palindrome(123))"
   ]
  },
  {
   "cell_type": "markdown",
   "metadata": {},
   "source": [
    "### For loop"
   ]
  },
  {
   "cell_type": "code",
   "execution_count": 15,
   "metadata": {},
   "outputs": [
    {
     "name": "stdout",
     "output_type": "stream",
     "text": [
      "10 11 12 13 14 15 16 17 18 19 20 21 22 23 24 25 "
     ]
    }
   ],
   "source": [
    "def printseries(x,y):\n",
    "    for a in range(x,y+1):\n",
    "        print(a,end=' ')\n",
    "    return\n",
    "printseries(10,25)"
   ]
  },
  {
   "cell_type": "code",
   "execution_count": 10,
   "metadata": {},
   "outputs": [
    {
     "name": "stdout",
     "output_type": "stream",
     "text": [
      "400 405 410 415 420 425 430 435 440 445 450 455 460 465 470 475 480 485 490 495 500 505 510 515 520 "
     ]
    }
   ],
   "source": [
    "def printseries(x,y):\n",
    "    for a in range(x,y+1,5):\n",
    "        print(a,end=' ')\n",
    "printseries(400,520)"
   ]
  },
  {
   "cell_type": "code",
   "execution_count": null,
   "metadata": {},
   "outputs": [],
   "source": [
    "def print_factors"
   ]
  }
 ],
 "metadata": {
  "kernelspec": {
   "display_name": "Python 3",
   "language": "python",
   "name": "python3"
  },
  "language_info": {
   "codemirror_mode": {
    "name": "ipython",
    "version": 3
   },
   "file_extension": ".py",
   "mimetype": "text/x-python",
   "name": "python",
   "nbconvert_exporter": "python",
   "pygments_lexer": "ipython3",
   "version": "3.7.3"
  }
 },
 "nbformat": 4,
 "nbformat_minor": 2
}
