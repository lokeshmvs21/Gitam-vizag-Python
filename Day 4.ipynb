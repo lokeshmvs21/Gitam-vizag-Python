{
 "cells": [
  {
   "cell_type": "markdown",
   "metadata": {},
   "source": [
    "### String Functions\n",
    "    - upper() --> will convert the input string into upper case\n",
    "    - lower() --> will convert the input string ints1=\"Python\""
   ]
  },
  {
   "cell_type": "code",
   "execution_count": 18,
   "metadata": {},
   "outputs": [
    {
     "name": "stdout",
     "output_type": "stream",
     "text": [
      "PYTHON\n",
      "python\n"
     ]
    }
   ],
   "source": [
    "s1=\"python\"\n",
    "print(s1.upper())\n",
    "print(s1.lower())"
   ]
  },
  {
   "cell_type": "markdown",
   "metadata": {},
   "source": [
    "### String Boolean Function\n",
    "    - True or False\n",
    "    - islower() --> True if the srting have all characters lower case\n",
    "    - isupper() --> True if the string have all characters upper case\n",
    "    - istitle() --> True if the string in the title case(Firt letter in capital)\n",
    "    - isnumeric() --> True if the string has only numbers\n",
    "    - isalpha() --> True if the string has only alphabets\n",
    "    - isspace() --> True if the string is space"
   ]
  },
  {
   "cell_type": "code",
   "execution_count": 19,
   "metadata": {},
   "outputs": [
    {
     "name": "stdout",
     "output_type": "stream",
     "text": [
      "False\n",
      "False\n",
      "True\n"
     ]
    }
   ],
   "source": [
    "s1=\"Python\"\n",
    "print(s1.islower())\n",
    "print(s1.isupper())\n",
    "print(s1.istitle())"
   ]
  },
  {
   "cell_type": "code",
   "execution_count": 20,
   "metadata": {},
   "outputs": [
    {
     "name": "stdout",
     "output_type": "stream",
     "text": [
      "True\n",
      "False\n"
     ]
    }
   ],
   "source": [
    "s1=\"87453\"\n",
    "s2=\"kfhsd7h4\"\n",
    "print(s1.isnumeric())\n",
    "print(s2.isnumeric())"
   ]
  },
  {
   "cell_type": "code",
   "execution_count": 21,
   "metadata": {},
   "outputs": [
    {
     "name": "stdout",
     "output_type": "stream",
     "text": [
      "True True\n"
     ]
    }
   ],
   "source": [
    "s1=\"kshdfuh\"\n",
    "s2=\" \"\n",
    "print(s1.isalpha(),s2.isspace())"
   ]
  },
  {
   "cell_type": "markdown",
   "metadata": {},
   "source": [
    "### String Methods\n",
    "     - split() --> returns the list strings seperated by whitespace"
   ]
  },
  {
   "cell_type": "code",
   "execution_count": 24,
   "metadata": {},
   "outputs": [
    {
     "name": "stdout",
     "output_type": "stream",
     "text": [
      "['Python', 'programming', 'learn', 'made', 'easy']\n"
     ]
    }
   ],
   "source": [
    "s1=\"Python programming learn made easy\"\n",
    "li=s1.split()\n",
    "print(li)"
   ]
  },
  {
   "cell_type": "code",
   "execution_count": 26,
   "metadata": {},
   "outputs": [
    {
     "name": "stdout",
     "output_type": "stream",
     "text": [
      "['Python progr', 'mming le', 'rn m', 'de e', 'sy']\n"
     ]
    }
   ],
   "source": [
    "s1=\"Python programming learn made easy\"\n",
    "li=s1.split('a')\n",
    "print(li)"
   ]
  },
  {
   "cell_type": "code",
   "execution_count": 32,
   "metadata": {},
   "outputs": [
    {
     "name": "stdout",
     "output_type": "stream",
     "text": [
      "Python-programming-learn-made-easy\n"
     ]
    }
   ],
   "source": [
    "s1=\"Python programming learn made easy\"\n",
    "li=s1.replace(' ','-')\n",
    "print(li)"
   ]
  },
  {
   "cell_type": "code",
   "execution_count": 34,
   "metadata": {},
   "outputs": [
    {
     "name": "stdout",
     "output_type": "stream",
     "text": [
      "P:y:t:h:o:n\n"
     ]
    }
   ],
   "source": [
    "s1=\"Python\"\n",
    "print(\":\".join(s1))"
   ]
  },
  {
   "cell_type": "markdown",
   "metadata": {},
   "source": [
    "### String Formatting\n",
    "    - Classic version\n",
    "    - Current version python"
   ]
  },
  {
   "cell_type": "code",
   "execution_count": 36,
   "metadata": {},
   "outputs": [
    {
     "name": "stdout",
     "output_type": "stream",
     "text": [
      "Python Programming\n",
      "1 2 3 4\n"
     ]
    }
   ],
   "source": [
    "# classic version (C or C++)\n",
    "li=[\"Python\",\"Programming\"]\n",
    "print('%s %s' %(li[0],li[1]))\n",
    "lo=[1,2,3,4]\n",
    "print('%d %d %d %d' %(lo[0],lo[1],lo[2],lo[3]))"
   ]
  },
  {
   "cell_type": "code",
   "execution_count": 38,
   "metadata": {},
   "outputs": [
    {
     "name": "stdout",
     "output_type": "stream",
     "text": [
      "list item 1 : Python\n",
      "list item 2 : Programming\n"
     ]
    }
   ],
   "source": [
    "# .format\n",
    "li=[\"Python\",\"Programming\"]\n",
    "print(\"list item 1 : {0}\\nlist item 2 : {1}\".format(li[0],li[1]))"
   ]
  },
  {
   "cell_type": "markdown",
   "metadata": {},
   "source": [
    "### Data Structures\n",
    "    - List\n",
    "    - Tuples\n",
    "    - Dictionaries"
   ]
  },
  {
   "cell_type": "markdown",
   "metadata": {},
   "source": [
    "### Dictionaries\n",
    "    - It works on concept of Unique Data\n",
    "    - Key, Value is the unique identifier a value\n",
    "    - Each key is seperated from colon(:)\n",
    "    - Each key and value is seperated by comma(,)\n",
    "    - Dictionaries are enclosed with Curly brackets({})"
   ]
  },
  {
   "cell_type": "code",
   "execution_count": 41,
   "metadata": {},
   "outputs": [
    {
     "name": "stdout",
     "output_type": "stream",
     "text": [
      "{'Name': 'Gitam', 'Email Id': 'vaibhavteja@gmail.com', 'Address': 'Pendurthi'}\n"
     ]
    }
   ],
   "source": [
    "d1={\"Name\":\"Gitam\",\"Email Id\":\"vaibhavteja@gmail.com\",\"Address\":\"Pendurthi\"}\n",
    "print(d1)"
   ]
  },
  {
   "cell_type": "code",
   "execution_count": 44,
   "metadata": {
    "scrolled": false
   },
   "outputs": [
    {
     "name": "stdout",
     "output_type": "stream",
     "text": [
      "vaibhavteja@gmail.com\n"
     ]
    }
   ],
   "source": [
    "print(d1[\"Email Id\"])"
   ]
  },
  {
   "cell_type": "code",
   "execution_count": 49,
   "metadata": {},
   "outputs": [
    {
     "name": "stdout",
     "output_type": "stream",
     "text": [
      "lokeshmvs21@gmail.com\n"
     ]
    }
   ],
   "source": [
    "d1[\"Email Id\"]=\"lokeshmvs21@gmail.com\"\n",
    "print(d1[\"Email Id\"])"
   ]
  },
  {
   "cell_type": "code",
   "execution_count": 50,
   "metadata": {},
   "outputs": [
    {
     "name": "stdout",
     "output_type": "stream",
     "text": [
      "dict_keys(['Name', 'Email Id', 'Address'])\n"
     ]
    }
   ],
   "source": [
    "li=d1.keys()\n",
    "print(li)"
   ]
  },
  {
   "cell_type": "code",
   "execution_count": 56,
   "metadata": {},
   "outputs": [
    {
     "name": "stdout",
     "output_type": "stream",
     "text": [
      "dict_values(['Gitam', 'Pendurthi'])\n"
     ]
    }
   ],
   "source": [
    "lo=d1.values()\n",
    "print(lo)"
   ]
  },
  {
   "cell_type": "code",
   "execution_count": 54,
   "metadata": {},
   "outputs": [],
   "source": [
    "del d1[\"Email Id\"]"
   ]
  },
  {
   "cell_type": "code",
   "execution_count": 55,
   "metadata": {},
   "outputs": [
    {
     "name": "stdout",
     "output_type": "stream",
     "text": [
      "{'Name': 'Gitam', 'Address': 'Pendurthi'}\n"
     ]
    }
   ],
   "source": [
    "print(d1)"
   ]
  },
  {
   "cell_type": "markdown",
   "metadata": {},
   "source": [
    "### Contact Application\n",
    "    - Add Contact Details\n",
    "    - Search the contact details\n",
    "    - modify the contact details\n",
    "    - delete the contact details"
   ]
  },
  {
   "cell_type": "code",
   "execution_count": 84,
   "metadata": {},
   "outputs": [
    {
     "name": "stdout",
     "output_type": "stream",
     "text": [
      "Contact details are successfully added\n",
      "Contact details are successfully added\n",
      "Name already exists\n",
      "Contact details are successfully added\n"
     ]
    }
   ],
   "source": [
    "contacts = {} # Empty dic. object\n",
    "# Function to add contact details\n",
    "def addContact(name,phone):\n",
    "    if name not in contacts: # condition to check name exists or not\n",
    "        contacts[name]=phone\n",
    "        print(\"Contact details are successfully added\")\n",
    "    else:\n",
    "        print(\"Name already exists\")\n",
    "    return\n",
    "addContact(\"vaibhav\",\"9441432594\")\n",
    "addContact(\"sanjay\",\"9493132220\")\n",
    "addContact(\"vaibhav\",\"9441432594\")\n",
    "addContact(\"satya\",\"9493136220\")"
   ]
  },
  {
   "cell_type": "code",
   "execution_count": 85,
   "metadata": {},
   "outputs": [
    {
     "name": "stdout",
     "output_type": "stream",
     "text": [
      "{'vaibhav': '9441432594', 'sanjay': '9493132220', 'satya': '9493136220'}\n"
     ]
    }
   ],
   "source": [
    "print(contacts)"
   ]
  },
  {
   "cell_type": "code",
   "execution_count": 86,
   "metadata": {},
   "outputs": [
    {
     "name": "stdout",
     "output_type": "stream",
     "text": [
      "vaibhav  :  9441432594\n",
      "loki does not present\n",
      "deleted done.\n"
     ]
    }
   ],
   "source": [
    "def searchContact(name):\n",
    "    if name in contacts:\n",
    "        print(name, \" : \",contacts[name])\n",
    "    else:\n",
    "        print('{0} does not present'.format(name))\n",
    "    return\n",
    "def deletecontact(name):\n",
    "    del contacts['vaibhav']\n",
    "    print(\"deleted done.\")\n",
    "searchContact('vaibhav')\n",
    "searchContact('loki')\n",
    "deletecontact('vaibhav')"
   ]
  },
  {
   "cell_type": "code",
   "execution_count": 87,
   "metadata": {},
   "outputs": [
    {
     "name": "stdout",
     "output_type": "stream",
     "text": [
      "{'sanjay': '9493132220', 'satya': '9493136220'}\n"
     ]
    }
   ],
   "source": [
    "print(contacts)"
   ]
  },
  {
   "cell_type": "code",
   "execution_count": 89,
   "metadata": {},
   "outputs": [
    {
     "name": "stdout",
     "output_type": "stream",
     "text": [
      "satya Updated Successfully\n",
      "vaibhav Not exists\n"
     ]
    }
   ],
   "source": [
    "def modifyContacts(name,phone):\n",
    "    if name in contacts:\n",
    "        contacts[name]=phone\n",
    "        print(name,'Updated Successfully')\n",
    "    else:\n",
    "        print(name,'Not exists')\n",
    "    return\n",
    "modifyContacts('satya',8465387628)\n",
    "modifyContacts('vaibhav',8734587655)"
   ]
  },
  {
   "cell_type": "code",
   "execution_count": 90,
   "metadata": {},
   "outputs": [
    {
     "name": "stdout",
     "output_type": "stream",
     "text": [
      "{'sanjay': '9493132220', 'satya': 8465387628}\n"
     ]
    }
   ],
   "source": [
    "print(contacts)"
   ]
  },
  {
   "cell_type": "markdown",
   "metadata": {},
   "source": [
    "### Tuples\n",
    "    - Tuples enclosed with parenthesis()\n",
    "### Differences betwween Tuples and List\n",
    "    - List are mutable --> can be changed / modify\n",
    "        - Read and write the data\n",
    "    - Tuples are immutable --> can't be changed / modify\n",
    "        - Read data only"
   ]
  },
  {
   "cell_type": "code",
   "execution_count": 93,
   "metadata": {},
   "outputs": [
    {
     "name": "stdout",
     "output_type": "stream",
     "text": [
      "(1, 2, 3, 4)\n"
     ]
    }
   ],
   "source": [
    "t1=(1,2,3,4)\n",
    "print(t1)"
   ]
  },
  {
   "cell_type": "markdown",
   "metadata": {},
   "source": [
    "### Standard Libraries\n",
    "    - Regular expressions\n",
    "        - To validate the Indian mobile\n",
    "        - To validate the email id\n",
    "        - To validate the username\n",
    "        - To validate the password\n",
    "    - Understand the Regular Expressions\n",
    "        - [0-9] any digit matching\n",
    "        - [A-Z] any digit matching\n",
    "        - [a-z] any digit matching\n",
    "        - cap symbol is used to represent the start of regular expression\n",
    "        - Dollar symbol is used to represent the end of regular expression"
   ]
  },
  {
   "cell_type": "code",
   "execution_count": 97,
   "metadata": {},
   "outputs": [
    {
     "name": "stdout",
     "output_type": "stream",
     "text": [
      "True\n",
      "False\n"
     ]
    }
   ],
   "source": [
    "# function to test the two digit number as input\n",
    "# True --> Input two digit number\n",
    "# False --> Input not a two digit number\n",
    "import re\n",
    "def twodigitmatching(n):\n",
    "    pattern='^[0-9]{2}$'\n",
    "    n=str(n)\n",
    "    if re.match(pattern,n):\n",
    "        return True\n",
    "    return False\n",
    "print(twodigitmatching(12))\n",
    "print(twodigitmatching(123))"
   ]
  },
  {
   "cell_type": "code",
   "execution_count": 103,
   "metadata": {},
   "outputs": [
    {
     "name": "stdout",
     "output_type": "stream",
     "text": [
      "True\n",
      "False\n"
     ]
    }
   ],
   "source": [
    "# Regular expression for username\n",
    "# username --> should contains lower and upper case characters\n",
    "# length --> min 5 max 12\n",
    "def validateUsername(s):\n",
    "    pattern='^[a-zA-Z]{4,11}$'\n",
    "    if re.match(pattern,s):\n",
    "        return True\n",
    "    return False\n",
    "print(validateUsername('lokeshmvs'))\n",
    "print(validateUsername('san'))"
   ]
  },
  {
   "cell_type": "markdown",
   "metadata": {},
   "source": [
    "### Regular Expression for Indian Mobile\n",
    "    - 10 Digit Number\n",
    "        - First Number is starts from [6-9]\n",
    "        - Rest of 9 numbers is between [0-9]\n",
    "            - Example 9365428572 True\n",
    "            - Example 5473567456 False\n",
    "    - 11 Digit Number\n",
    "        - First number can be 0\n",
    "        - Second number can [6-9]\n",
    "        - Rest 9 digits can [0-9]\n",
    "            - Example 09753653765 True\n",
    "            - Example 94732658583 False\n",
    "    - 13 Digit Number\n",
    "        - First number can be +\n",
    "        - Second number 9 \n",
    "        - Third number 1\n",
    "        - Fourth number [6-9]\n",
    "        - Rest of numbers [0-9]\n",
    "            - Example +918099031145 True\n",
    "            - Example 8563298737559 False"
   ]
  },
  {
   "cell_type": "code",
   "execution_count": null,
   "metadata": {},
   "outputs": [],
   "source": [
    "# Rule 1 : ^(6-9)[0-9]{9}$\n",
    "# Rule 2 : ^[0](6-9)[0-9]{9}$\n",
    "# Rule 3 : ^[+][9][1](6-9)[0-9]{9}$"
   ]
  },
  {
   "cell_type": "code",
   "execution_count": 118,
   "metadata": {},
   "outputs": [
    {
     "name": "stdout",
     "output_type": "stream",
     "text": [
      "Enter a phone number : 827348724\n",
      "Number not registered\n"
     ]
    }
   ],
   "source": [
    "import re\n",
    "def validateIndianphone(n):\n",
    "    s=str(n)\n",
    "    pattern='^(6-9)[0-9]{9}$|^[0](6-9)[0-9]{9}$|^[+][9][1](6-9)[0-9]{9}$'\n",
    "    if re.match(pattern,s):\n",
    "        print('Number registered')\n",
    "    else:\n",
    "        print('Number not registered')\n",
    "    return\n",
    "n=(int(input('Enter a phone number : ')))\n",
    "validateIndianphone(n)"
   ]
  },
  {
   "cell_type": "markdown",
   "metadata": {},
   "source": [
    "### Validate the Email Id\n",
    "    - Example : Username@DomainName.extension\n",
    "    - Example : lokeshmvs21@gmail.com\n",
    "    - Username : \n",
    "        - Length of string will be [6-15]\n",
    "        - No special characters except underscore(_) and dot(.)\n",
    "        - Username should not begins with underscore(_)\n",
    "        - All characters set digits, lower case and upper case\n",
    "            - Example : Lokesh_21\n",
    "    - DomainName\n",
    "        - Length of string will be [3-18]\n",
    "        - No special characters\n",
    "        - Charaters will be lower case and upper case\n",
    "            - Example : gmail,hotmail,yahoo and etc..\n",
    "    - Extensions\n",
    "        - Length of string will be [2-4]\n",
    "        - No special characters are allowed\n",
    "        - Character set will lower case characters\n",
    "            - Example : com in uk"
   ]
  },
  {
   "cell_type": "code",
   "execution_count": 124,
   "metadata": {},
   "outputs": [
    {
     "name": "stdout",
     "output_type": "stream",
     "text": [
      "email is valid\n"
     ]
    }
   ],
   "source": [
    "def email(e):\n",
    "    pattern='^[0-9a-zA-Z][0-9a-zA-Z_]{5,14}[@][a-zA-Z]{3,18}[.][a-z]{2,4}$'\n",
    "    if re.match(pattern,e):\n",
    "        print('email is valid')\n",
    "    else:\n",
    "        print('email is not valid')\n",
    "    return\n",
    "email('lokeshmvs21@gmail.com')"
   ]
  },
  {
   "cell_type": "markdown",
   "metadata": {},
   "source": [
    "### Python Graphics\n",
    "    - lib turtle"
   ]
  },
  {
   "cell_type": "markdown",
   "metadata": {},
   "source": [
    "### Package, Module and Sub Package\n",
    "    - Package \n",
    "        - A collectionn of modules (single Python file .py)\n",
    "    - Module\n",
    "        - A single python file that contain group of functions\n",
    "        - package > subpackage > modules > functions > statements"
   ]
  },
  {
   "cell_type": "code",
   "execution_count": 127,
   "metadata": {},
   "outputs": [
    {
     "name": "stdout",
     "output_type": "stream",
     "text": [
      "123\n",
      "124\n"
     ]
    }
   ],
   "source": [
    "import math\n",
    "print(math.floor(123.456))\n",
    "print(math.ceil(123.456))"
   ]
  },
  {
   "cell_type": "code",
   "execution_count": 129,
   "metadata": {},
   "outputs": [
    {
     "name": "stdout",
     "output_type": "stream",
     "text": [
      "3628800\n"
     ]
    }
   ],
   "source": [
    "from math import factorial as fact # will imports only specific function\n",
    "# as fact alias name\n",
    "print(fact(10))"
   ]
  },
  {
   "cell_type": "code",
   "execution_count": 130,
   "metadata": {},
   "outputs": [
    {
     "name": "stdout",
     "output_type": "stream",
     "text": [
      "5\n"
     ]
    }
   ],
   "source": [
    "from math import gcd as gcd\n",
    "print(gcd(10,15))"
   ]
  },
  {
   "cell_type": "code",
   "execution_count": 137,
   "metadata": {},
   "outputs": [
    {
     "name": "stdout",
     "output_type": "stream",
     "text": [
      "38 11 26 29 18 28 17 36 10 25 45 49 31 9 19 35 1 3 9 50 21 26 20 19 32 8 18 47 0 45 29 26 27 32 22 6 43 46 14 0 13 10 33 5 20 16 11 49 26 48 5 "
     ]
    }
   ],
   "source": [
    "# import random package\n",
    "import random\n",
    "# function to generate the N numbers in given range\n",
    "def generateRandom(n,lb,ub):\n",
    "    for i in range(lb,ub+1):\n",
    "        print(random.randint(lb,ub),end=' ')\n",
    "    return\n",
    "generateRandom(1,0,50)"
   ]
  },
  {
   "cell_type": "code",
   "execution_count": 156,
   "metadata": {},
   "outputs": [
    {
     "name": "stdout",
     "output_type": "stream",
     "text": [
      "Try again..\n"
     ]
    }
   ],
   "source": [
    "from random import randint as rdint\n",
    "def generateNumbers(n,lb,ub):\n",
    "    li=[]\n",
    "    for i in range(0,n):\n",
    "        li.append(rdint(lb,ub))\n",
    "    return li\n",
    "def check(n):\n",
    "    li=generateNumbers(100,0,500)\n",
    "    if n in li:\n",
    "        print('Congrats!')\n",
    "    else:\n",
    "        print('Try again..')\n",
    "    return\n",
    "check(313)"
   ]
  },
  {
   "cell_type": "code",
   "execution_count": null,
   "metadata": {},
   "outputs": [],
   "source": [
    "# draw a line in forward direction\n",
    "import turtle\n",
    "al=turtle.Turtle()\n",
    "al.goto(-150,0)\n",
    "al.forward(250)\n",
    "turtle.done()"
   ]
  },
  {
   "cell_type": "code",
   "execution_count": null,
   "metadata": {},
   "outputs": [],
   "source": [
    "# draw the line in reverse direction\n",
    "import turtle as tt\n",
    "al=tt.Turtle()\n",
    "al.backward(250)\n",
    "turtle.done()"
   ]
  },
  {
   "cell_type": "code",
   "execution_count": null,
   "metadata": {},
   "outputs": [],
   "source": [
    "# draw a square\n",
    "import turtle as tt\n",
    "al=tt.Turtle()\n",
    "for i in range(4):\n",
    "    al.forward(150)\n",
    "    al.right(90)\n",
    "tt.done()"
   ]
  },
  {
   "cell_type": "code",
   "execution_count": null,
   "metadata": {},
   "outputs": [],
   "source": [
    "# draw star\n",
    "import turtle as tt\n",
    "al=tt.Turtle()\n",
    "for i in range(40):\n",
    "    al.forward(50)\n",
    "    al.right(144)\n",
    "tt.done()"
   ]
  }
 ],
 "metadata": {
  "kernelspec": {
   "display_name": "Python 3",
   "language": "python",
   "name": "python3"
  },
  "language_info": {
   "codemirror_mode": {
    "name": "ipython",
    "version": 3
   },
   "file_extension": ".py",
   "mimetype": "text/x-python",
   "name": "python",
   "nbconvert_exporter": "python",
   "pygments_lexer": "ipython3",
   "version": "3.7.3"
  }
 },
 "nbformat": 4,
 "nbformat_minor": 2
}
