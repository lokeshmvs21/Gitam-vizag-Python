{
 "cells": [
  {
   "cell_type": "markdown",
   "metadata": {},
   "source": [
    "### Programming in Python with strings\n",
    "    - strings\n",
    "    - string slicing\n",
    "    - Fundamental programs and examples with strings"
   ]
  },
  {
   "cell_type": "code",
   "execution_count": 1,
   "metadata": {},
   "outputs": [
    {
     "name": "stdout",
     "output_type": "stream",
     "text": [
      "Python\n",
      "Programming\n",
      "A\n",
      "<class 'str'>\n",
      "<class 'str'>\n",
      "<class 'str'>\n"
     ]
    }
   ],
   "source": [
    "s1= 'Python'\n",
    "s2= \"Programming\"\n",
    "s3= 'A'\n",
    "print(s1)\n",
    "print(s2)\n",
    "print(s3)\n",
    "print(type(s1))\n",
    "print(type(s2))\n",
    "print(type(s3))"
   ]
  },
  {
   "cell_type": "markdown",
   "metadata": {},
   "source": [
    "### String slicing"
   ]
  },
  {
   "cell_type": "code",
   "execution_count": 2,
   "metadata": {},
   "outputs": [
    {
     "name": "stdout",
     "output_type": "stream",
     "text": [
      "P\n",
      "y\n",
      "6\n",
      "n\n"
     ]
    }
   ],
   "source": [
    "s1= \"Python\"\n",
    "print(s1[0])\n",
    "print(s1[1])\n",
    "print(len(s1))\n",
    "print(s1[len(s1)-1]) # aceessing the last characcter in a string"
   ]
  },
  {
   "cell_type": "code",
   "execution_count": 3,
   "metadata": {},
   "outputs": [
    {
     "name": "stdout",
     "output_type": "stream",
     "text": [
      "t\n"
     ]
    }
   ],
   "source": [
    "s1= \"groot is always a groot\"\n",
    "print(s1[-1]) # accessing the last character in an another way"
   ]
  },
  {
   "cell_type": "code",
   "execution_count": 4,
   "metadata": {},
   "outputs": [
    {
     "name": "stdout",
     "output_type": "stream",
     "text": [
      "pr\n",
      "ogra\n",
      "gramming\n",
      "mming\n",
      "rogrammin\n"
     ]
    }
   ],
   "source": [
    "s1=\"programming\"\n",
    "print(s1[0:2])\n",
    "print(s1[2:6]) # access the characters from 2 to 6\n",
    "print(s1[3:]) # access the characters till last from 3\n",
    "print(s1[-5:]) # prints the last five characters\n",
    "print(s1[1:-1]) # all the characters except first and last characters"
   ]
  },
  {
   "cell_type": "code",
   "execution_count": 5,
   "metadata": {},
   "outputs": [
    {
     "name": "stdout",
     "output_type": "stream",
     "text": [
      "hsekol\n",
      "oeh\n",
      "heo\n",
      "le\n"
     ]
    }
   ],
   "source": [
    "s1= \"lokesh\"\n",
    "print(s1[-1::-1]) # reverse the string\n",
    "print(s1[1::2]) # alternative characters\n",
    "print(s1[::-2]) # alternative characters from the reverse\n",
    "print(s1[::3]) "
   ]
  },
  {
   "cell_type": "markdown",
   "metadata": {},
   "source": [
    "### Function with String operations"
   ]
  },
  {
   "cell_type": "code",
   "execution_count": 6,
   "metadata": {},
   "outputs": [
    {
     "name": "stdout",
     "output_type": "stream",
     "text": [
      "Enter a string : lokesh\n",
      "hsekol\n"
     ]
    }
   ],
   "source": [
    "# reverse the string\n",
    "def reverseStr(s):\n",
    "    print(s[-1::-1])\n",
    "reverseStr(s=str(input(\"Enter a string : \")))"
   ]
  },
  {
   "cell_type": "code",
   "execution_count": 7,
   "metadata": {},
   "outputs": [
    {
     "name": "stdout",
     "output_type": "stream",
     "text": [
      "False\n",
      "True\n"
     ]
    }
   ],
   "source": [
    "# check the given string is palindome or not\n",
    "def palindrome(s):\n",
    "    if(s == s[-1::-1]):\n",
    "        return True\n",
    "    return False\n",
    "print(palindrome('programming'))\n",
    "print(palindrome(\"malayalam\"))"
   ]
  },
  {
   "cell_type": "code",
   "execution_count": 8,
   "metadata": {},
   "outputs": [
    {
     "name": "stdout",
     "output_type": "stream",
     "text": [
      "71 79 87 "
     ]
    }
   ],
   "source": [
    "# function to print the upper case characters\n",
    "# example : python -- P T\n",
    "\n",
    "# ASCII\n",
    "# A-Z : 65 - 90\n",
    "# a-z : 97 - 122\n",
    "# 0-9 : 48 - 57\n",
    "# space : 32\n",
    "\n",
    "def printupper(s):\n",
    "    for i in range(len(s)):\n",
    "        if ord(s[i]) >= 65 and ord(s[i]) <= 90:\n",
    "            print(ord(s[i]),end=' ')\n",
    "    return\n",
    "printupper(\"GOWtham\")"
   ]
  },
  {
   "cell_type": "code",
   "execution_count": 9,
   "metadata": {},
   "outputs": [
    {
     "name": "stdout",
     "output_type": "stream",
     "text": [
      "Enter a string : GooD\n",
      "samecount\n"
     ]
    }
   ],
   "source": [
    "# function to return the output as samecount and programming\n",
    "# samecount -- lower and upper characters have same count\n",
    "# prpogramming -- count of lower and upper case is not same\n",
    "\n",
    "def fun(s):\n",
    "    u=0\n",
    "    l=0\n",
    "    for i in range(len(s)):\n",
    "        if ord(s[i])>=65 and ord(s[i])<=90:\n",
    "            u=u+1\n",
    "        elif ord(s[i])>=97 and ord(s[i])<=122:\n",
    "            l=l+1\n",
    "    if u==l:\n",
    "        print(\"samecount\")\n",
    "    elif u!=l:\n",
    "        print(\"Programming\")\n",
    "fun(str(input(\"Enter a string : \")))"
   ]
  },
  {
   "cell_type": "code",
   "execution_count": 10,
   "metadata": {},
   "outputs": [
    {
     "name": "stdout",
     "output_type": "stream",
     "text": [
      "4 5 3 5 "
     ]
    }
   ],
   "source": [
    "# function to extract the digits from the string\n",
    "# example1: \n",
    "    # input : jg45hjk3h5gj\n",
    "    # output : 4 5 3 5\n",
    "    \n",
    "def extractDigits(s):\n",
    "    for i in range(len(s)):\n",
    "        if ord(s[i])>=48 and ord(s[i])<=57:\n",
    "            print(s[i],end=' ')\n",
    "    return\n",
    "extractDigits(\"jg45hjk3h5gj\")"
   ]
  },
  {
   "cell_type": "code",
   "execution_count": 11,
   "metadata": {},
   "outputs": [
    {
     "name": "stdout",
     "output_type": "stream",
     "text": [
      "17 "
     ]
    }
   ],
   "source": [
    "# function to add the digits of the given string\n",
    "# example1:\n",
    "    # input : jg45hjk3h5gj\n",
    "    # output : 4+5+3+5=17\n",
    "def extractDigits(s):\n",
    "    m=0\n",
    "    for i in range(len(s)):\n",
    "        if ord(s[i])>=48 and ord(s[i])<=57:\n",
    "            a=int(s[i])\n",
    "            m=m+a\n",
    "    print(m,end=' ')\n",
    "    return\n",
    "\n",
    "extractDigits(\"jg45hjk3h5gj\")"
   ]
  },
  {
   "cell_type": "code",
   "execution_count": 25,
   "metadata": {},
   "outputs": [
    {
     "name": "stdout",
     "output_type": "stream",
     "text": [
      "MADE"
     ]
    }
   ],
   "source": [
    "# function to print 2nd word in upper case\n",
    "# example1:\n",
    "    # input : Python made easy\n",
    "    # output : MADE\n",
    "def Print_2ndword_uppcase(s):\n",
    "    space=0\n",
    "    for i in range(len(s)):\n",
    "        if(ord(s[i])==32):\n",
    "            space+=1\n",
    "        if space==1:\n",
    "            if ord(s[i])>=65 and ord(s[i])<=90:\n",
    "                print(s[i],end=\"\")\n",
    "            elif ord(s[i])>=97 and ord(s[i])<=122:\n",
    "                print(chr(ord(s[i])-32),end=\"\")\n",
    "        if space==2:\n",
    "            break\n",
    "    return\n",
    "Print_2ndword_uppcase('Pyhton Made Easy')"
   ]
  },
  {
   "cell_type": "markdown",
   "metadata": {},
   "source": [
    "### List\n",
    "    - One of the data structure in python\n",
    "    - data structure means to store, sort and search options\n",
    "    - It's one common data structures in python, the items of list seperated by comma and enclosed in square brackets[]\n",
    "        - Example\n",
    "            - list1 =[1,2,3,4,5]\n",
    "            - list2 =[\"Gitam\",1,2,1.89,\"Vizag\"]"
   ]
  },
  {
   "cell_type": "code",
   "execution_count": 27,
   "metadata": {},
   "outputs": [
    {
     "name": "stdout",
     "output_type": "stream",
     "text": [
      "[1, 8, 16, 9, 2]\n",
      "1\n",
      "8\n",
      "2\n",
      "[2, 9, 16, 8, 1]\n"
     ]
    }
   ],
   "source": [
    "li =[1,8,16,9,2]\n",
    "print(li) # Will print all the list items\n",
    "print(li[0]) # access the first item in the list\n",
    "print(li[1]) # access the second item in the list\n",
    "print(li[-1]) # access the last item in the list\n",
    "print(li[-1::-1]) # prints the items in the list in reverse order"
   ]
  },
  {
   "cell_type": "code",
   "execution_count": 33,
   "metadata": {},
   "outputs": [
    {
     "name": "stdout",
     "output_type": "stream",
     "text": [
      "['Gitam', 123, 8436, 2055]\n"
     ]
    }
   ],
   "source": [
    "li=[\"Gitam\",8537,8436,2055,\"Vizag\"]\n",
    "# update the list item with value using index\n",
    "li[1]=123\n",
    "# delete the list from the item\n",
    "del li[4]\n",
    "print(li)"
   ]
  },
  {
   "cell_type": "markdown",
   "metadata": {},
   "source": [
    "### Basic List Operations"
   ]
  },
  {
   "cell_type": "code",
   "execution_count": 37,
   "metadata": {},
   "outputs": [
    {
     "name": "stdout",
     "output_type": "stream",
     "text": [
      "4\n",
      "[1, 2, 3, 4, 1, 2, 3, 4]\n",
      "True\n",
      "False\n",
      "1 2 3 4 \n",
      "1 2 3 4 "
     ]
    }
   ],
   "source": [
    "li=[1,2,3,4]\n",
    "# length of the list\n",
    "print(len(li))\n",
    "# list repetition\n",
    "print(li*2)\n",
    "# To know certain item is in list or not\n",
    "print(4 in li)\n",
    "print(5 in li)\n",
    "# Access the certain items from iterations\n",
    "# 1 way to print the list items\n",
    "for i in range(len(li)):\n",
    "    print(li[i],end=' ')\n",
    "print()\n",
    "# 2nd way to print the list items\n",
    "for i in li:\n",
    "    print(i,end=' ')"
   ]
  },
  {
   "cell_type": "markdown",
   "metadata": {},
   "source": [
    "### Basic List Functions"
   ]
  },
  {
   "cell_type": "code",
   "execution_count": 43,
   "metadata": {},
   "outputs": [
    {
     "name": "stdout",
     "output_type": "stream",
     "text": [
      "25\n",
      "1\n",
      "54\n",
      "10\n"
     ]
    }
   ],
   "source": [
    "li=[1,9,16,25,3]\n",
    "print(max(li)) # max number in the list\n",
    "print(min(li)) # min number in the list\n",
    "print(sum(li)) # sum of the items in the list\n",
    "print(sum(li)//len(li)) # Average of the list items"
   ]
  },
  {
   "cell_type": "code",
   "execution_count": 7,
   "metadata": {
    "scrolled": true
   },
   "outputs": [
    {
     "name": "stdout",
     "output_type": "stream",
     "text": [
      "[1, 9, 56, 16, 25, 5, 29]\n",
      "[1, 9, 56, 16, 25, 5, 29, 9]\n"
     ]
    }
   ],
   "source": [
    "# methods of list\n",
    "li=[1,9,16,25,5]\n",
    "\n",
    "li.append(29)\n",
    "print(li)\n",
    "li.append(9)\n",
    "li.count(9) \n",
    "li.insert(2,56)\n",
    "li.index(56) # return the value at that index\n",
    "print(li)"
   ]
  },
  {
   "cell_type": "code",
   "execution_count": 21,
   "metadata": {},
   "outputs": [
    {
     "name": "stdout",
     "output_type": "stream",
     "text": [
      "[1, 2, 3, 5, 9, 16, 25, 3675]\n",
      "[1, 2, 3, 5, 9, 16, 25]\n"
     ]
    }
   ],
   "source": [
    "# method of list object\n",
    "li=[1,9,16,25,3675,2,5,3]\n",
    "li.sort()\n",
    "print(li)\n",
    "li.pop()\n",
    "print(li)"
   ]
  },
  {
   "cell_type": "code",
   "execution_count": 24,
   "metadata": {},
   "outputs": [
    {
     "name": "stdout",
     "output_type": "stream",
     "text": [
      "1342\n",
      "34\n"
     ]
    }
   ],
   "source": [
    "# function to return the large number from the list\n",
    "def large_number(li):\n",
    "    li.sort()\n",
    "    return li[-1]\n",
    "def generic_large(li,n):\n",
    "    li.sort()\n",
    "    return li[-n]\n",
    "li=[1342,764,34,5,6]\n",
    "print(large_number(li))\n",
    "print(generic_large(li,3))"
   ]
  },
  {
   "cell_type": "code",
   "execution_count": 26,
   "metadata": {},
   "outputs": [
    {
     "name": "stdout",
     "output_type": "stream",
     "text": [
      "53\n",
      "4536\n"
     ]
    }
   ],
   "source": [
    "# function to find least and generic least number\n",
    "def least_number(li):\n",
    "    li.sort()\n",
    "    return li[0]\n",
    "def genericleastnumber(li,n):\n",
    "    li.sort()\n",
    "    return li[n-1]\n",
    "li=[234,4536,643,53]\n",
    "print(least_number(li))\n",
    "print(genericleastnumber(li,4))"
   ]
  },
  {
   "cell_type": "markdown",
   "metadata": {},
   "source": [
    "### File Handling in Python\n",
    "    - File -> Document which contains some information and resides on permanent devices\n",
    "    - Different types of file -- .txt,.pdf,.doc,.ppf and etc.\n",
    "    - Input -- keyboard\n",
    "    - Output -- file system"
   ]
  },
  {
   "cell_type": "code",
   "execution_count": 31,
   "metadata": {},
   "outputs": [
    {
     "name": "stdout",
     "output_type": "stream",
     "text": [
      "file is successfully created and data has insserted.\n"
     ]
    }
   ],
   "source": [
    "# function to create file and write some data to the file\n",
    "# mode -- w(it create the file and write some data)\n",
    "def create_file(filename):\n",
    "    f=open(filename,'w')\n",
    "    for i in range(10):\n",
    "        f.write('THis is %d line \\n' %i)\n",
    "    print(\"file is successfully created and data has insserted.\")\n",
    "    return\n",
    "create_file('file1.txt')"
   ]
  },
  {
   "cell_type": "code",
   "execution_count": 37,
   "metadata": {},
   "outputs": [
    {
     "name": "stdout",
     "output_type": "stream",
     "text": [
      "program printed successfully\n"
     ]
    }
   ],
   "source": [
    "def appendmode(filename):\n",
    "    f=open(filename,'a')\n",
    "    f.write(\"Gitam Vizag\\n\")\n",
    "    f.write(\"Python programming\\n\")\n",
    "    print(\"program printed successfully\")\n",
    "    return\n",
    "appendmode('file1.txt')"
   ]
  },
  {
   "cell_type": "code",
   "execution_count": 40,
   "metadata": {},
   "outputs": [
    {
     "name": "stdout",
     "output_type": "stream",
     "text": [
      "THis is 0 line \n",
      "THis is 1 line \n",
      "THis is 2 line \n",
      "THis is 3 line \n",
      "THis is 4 line \n",
      "THis is 5 line \n",
      "THis is 6 line \n",
      "THis is 7 line \n",
      "THis is 8 line \n",
      "THis is 9 line \n",
      "Gitam Vizag\n",
      "Python programming\n",
      "Gitam Vizag\n",
      "Python programming\n",
      "\n"
     ]
    }
   ],
   "source": [
    "def readfiledata(filename):\n",
    "    f=open(filename,'r')\n",
    "    if f.mode=='r':\n",
    "        a=f.read()\n",
    "        print(a)\n",
    "    f.close()\n",
    "    return\n",
    "readfiledata('file1.txt')"
   ]
  },
  {
   "cell_type": "code",
   "execution_count": 44,
   "metadata": {},
   "outputs": [
    {
     "name": "stdout",
     "output_type": "stream",
     "text": [
      "48\n"
     ]
    }
   ],
   "source": [
    "def word_count(filename):\n",
    "    with open(filename,'r') as f:\n",
    "        if f.mode=='r':\n",
    "            a=f.read()\n",
    "            li=a.split()\n",
    "    print(len(li))\n",
    "    return\n",
    "word_count('file1.txt')  "
   ]
  },
  {
   "cell_type": "code",
   "execution_count": 48,
   "metadata": {},
   "outputs": [
    {
     "name": "stdout",
     "output_type": "stream",
     "text": [
      "10\n"
     ]
    }
   ],
   "source": [
    "def word_count(filename,n):\n",
    "    with open(filename,'r') as f:\n",
    "        if f.mode=='r':\n",
    "            a=f.read()\n",
    "            li=a.split()\n",
    "            print(li.count(n))\n",
    "word_count('file1.txt','is')  "
   ]
  },
  {
   "cell_type": "code",
   "execution_count": 57,
   "metadata": {},
   "outputs": [
    {
     "name": "stdout",
     "output_type": "stream",
     "text": [
      "222\n"
     ]
    }
   ],
   "source": [
    "def charcount(filename):\n",
    "    with open(filename,'r') as f:\n",
    "        if f.mode=='r':\n",
    "            a=f.read()\n",
    "            li=list(a)\n",
    "            print(len(li))\n",
    "    \n",
    "charcount('file1.txt')"
   ]
  },
  {
   "cell_type": "code",
   "execution_count": 62,
   "metadata": {},
   "outputs": [
    {
     "name": "stdout",
     "output_type": "stream",
     "text": [
      "15\n"
     ]
    }
   ],
   "source": [
    "def findlinecount(filename):\n",
    "    with open(filename,'r') as f:\n",
    "        if f.mode=='r':\n",
    "            a=f.read()\n",
    "            li=a.split('\\n')\n",
    "            print(len(li))\n",
    "findlinecount('file1.txt')"
   ]
  },
  {
   "cell_type": "code",
   "execution_count": 64,
   "metadata": {},
   "outputs": [
    {
     "name": "stdout",
     "output_type": "stream",
     "text": [
      "uppercase: 26 lowercase: 128 digit: 10\n"
     ]
    }
   ],
   "source": [
    "def casecount(filename):\n",
    "    upper=0\n",
    "    lower=0\n",
    "    digit=0\n",
    "    with open(filename,'r') as f:\n",
    "        if f.mode=='r':\n",
    "            a=f.read()\n",
    "            li=list(a)\n",
    "    for i in range(len(li)):\n",
    "        if ord(li[i])>=65 and ord(li[i])<=90:\n",
    "            upper+=1\n",
    "        elif ord(li[i])>=97 and ord(li[i])<=122:\n",
    "            lower+=1\n",
    "        elif ord(li[i])>=48 and ord(li[i])<=57:\n",
    "            digit+=1\n",
    "    output='uppercase: {0} lowercase: {1} digit: {2}'.format(upper,lower,digit)\n",
    "    print(output)\n",
    "casecount('file1.txt')"
   ]
  },
  {
   "cell_type": "code",
   "execution_count": 4,
   "metadata": {},
   "outputs": [
    {
     "name": "stdout",
     "output_type": "stream",
     "text": [
      "8 "
     ]
    }
   ],
   "source": [
    "# assignment question 3\n",
    "def extractDigits(s):\n",
    "    m=0\n",
    "    for i in range(len(s)):\n",
    "        if ord(s[i])>=48 and ord(s[i])<=57:\n",
    "            a=int(s[i])\n",
    "            if a%2==0:\n",
    "                m=m+a\n",
    "    print(m,end=' ')\n",
    "    return\n",
    "\n",
    "extractDigits(\"jg45hjk4h5gj\")"
   ]
  },
  {
   "cell_type": "code",
   "execution_count": null,
   "metadata": {},
   "outputs": [],
   "source": [
    "# assingment question 2\n"
   ]
  }
 ],
 "metadata": {
  "kernelspec": {
   "display_name": "Python 3",
   "language": "python",
   "name": "python3"
  },
  "language_info": {
   "codemirror_mode": {
    "name": "ipython",
    "version": 3
   },
   "file_extension": ".py",
   "mimetype": "text/x-python",
   "name": "python",
   "nbconvert_exporter": "python",
   "pygments_lexer": "ipython3",
   "version": "3.7.3"
  }
 },
 "nbformat": 4,
 "nbformat_minor": 2
}
